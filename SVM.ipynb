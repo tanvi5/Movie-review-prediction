{
  "nbformat": 4,
  "nbformat_minor": 0,
  "metadata": {
    "colab": {
      "name": "SVM.ipynb",
      "version": "0.3.2",
      "provenance": [],
      "collapsed_sections": []
    },
    "kernelspec": {
      "name": "python3",
      "display_name": "Python 3"
    },
    "accelerator": "GPU"
  },
  "cells": [
    {
      "metadata": {
        "id": "eHbBBw94ulKa",
        "colab_type": "text"
      },
      "cell_type": "markdown",
      "source": [
        "## **SVM**"
      ]
    },
    {
      "metadata": {
        "id": "xZ1gQNHJufvQ",
        "colab_type": "code",
        "colab": {}
      },
      "cell_type": "code",
      "source": [
        "import pandas as pd\n",
        "import pickle as pkl\n",
        "import numpy as np\n",
        "from google.colab import files\n",
        "from google.colab import drive\n",
        "from collections import Counter\n",
        "from sklearn.model_selection import train_test_split\n",
        "from sklearn.feature_extraction.text import TfidfTransformer\n",
        "from sklearn.feature_extraction.text import CountVectorizer\n",
        "from sklearn.linear_model import SGDClassifier\n",
        "from sklearn.pipeline import Pipeline"
      ],
      "execution_count": 0,
      "outputs": []
    },
    {
      "metadata": {
        "id": "ddHM-0yEu4Nk",
        "colab_type": "code",
        "colab": {
          "base_uri": "https://localhost:8080/",
          "height": 34
        },
        "outputId": "04ec20b2-8d3c-4a0b-ca8d-376e6f33e4b1"
      },
      "cell_type": "code",
      "source": [
        "drive.mount('/content/Drive/',force_remount =  True)"
      ],
      "execution_count": 3,
      "outputs": [
        {
          "output_type": "stream",
          "text": [
            "Mounted at /content/Drive/\n"
          ],
          "name": "stdout"
        }
      ]
    },
    {
      "metadata": {
        "id": "DT1g0eZpu6KF",
        "colab_type": "code",
        "colab": {}
      },
      "cell_type": "code",
      "source": [
        "with open('/content/Drive/My Drive/SMM/finalDataset.pkl', 'rb') as pickle_file:\n",
        "    final_movie_df = pkl.load(pickle_file)"
      ],
      "execution_count": 0,
      "outputs": []
    },
    {
      "metadata": {
        "id": "AL4Qo_j2xnan",
        "colab_type": "code",
        "colab": {
          "base_uri": "https://localhost:8080/",
          "height": 118
        },
        "outputId": "244fcfb9-550c-486d-d098-c4f15ac34e94"
      },
      "cell_type": "code",
      "source": [
        "final_movie_df.columns"
      ],
      "execution_count": 20,
      "outputs": [
        {
          "output_type": "execute_result",
          "data": {
            "text/plain": [
              "Index(['MovieName', 'ID', 'CreatedAt', 'TweetText', 'RetweetCount',\n",
              "       'FavoriteCount', 'Emojis', 'last_emotion', 'last_emotion_polarity',\n",
              "       'emoticon', 'emoticon_polarity_score', 'num_of_pos_tweets',\n",
              "       'num_of_neg_tweets', 'tweet_polarity', 'negation_count', 'movie',\n",
              "       'imdb_rating_labels'],\n",
              "      dtype='object')"
            ]
          },
          "metadata": {
            "tags": []
          },
          "execution_count": 20
        }
      ]
    },
    {
      "metadata": {
        "id": "hJsclfYbLPsh",
        "colab_type": "code",
        "colab": {}
      },
      "cell_type": "code",
      "source": [
        "final_movie_df"
      ],
      "execution_count": 0,
      "outputs": []
    },
    {
      "metadata": {
        "id": "ZpSUuMla0Bk8",
        "colab_type": "code",
        "colab": {}
      },
      "cell_type": "code",
      "source": [
        "factors = pd.factorize(final_movie_df['imdb_rating_labels'])\n",
        "definitions = factors[1]\n",
        "y = pd.DataFrame(factors[0], columns=['imdb_rating_labels'])"
      ],
      "execution_count": 0,
      "outputs": []
    },
    {
      "metadata": {
        "id": "JJ-MMW3fvcnE",
        "colab_type": "code",
        "colab": {}
      },
      "cell_type": "code",
      "source": [
        "X_train, X_test, y_train, y_test = train_test_split(final_movie_df['TweetText'], y, test_size = 0.25, random_state = 21)"
      ],
      "execution_count": 0,
      "outputs": []
    },
    {
      "metadata": {
        "id": "9lteV8Mryg3Q",
        "colab_type": "code",
        "colab": {}
      },
      "cell_type": "code",
      "source": [
        "\n",
        "#clf = MultinomialNB().fit(X_train_tfidf, y_train)\n",
        "text_clf = Pipeline([('vect', CountVectorizer()),('tfidf', TfidfTransformer()),('clf', SGDClassifier(loss='hinge', penalty='l2',alpha=0.0001, random_state=42,max_iter=5, tol=None))])"
      ],
      "execution_count": 0,
      "outputs": []
    },
    {
      "metadata": {
        "id": "zhFT7jGE46Tm",
        "colab_type": "code",
        "colab": {
          "base_uri": "https://localhost:8080/",
          "height": 222
        },
        "outputId": "71974f5f-e6b4-4984-94bd-20e5f70f6cb6"
      },
      "cell_type": "code",
      "source": [
        "text_clf.fit(X_train, y_train)"
      ],
      "execution_count": 107,
      "outputs": [
        {
          "output_type": "stream",
          "text": [
            "/usr/local/lib/python3.6/dist-packages/sklearn/linear_model/stochastic_gradient.py:183: FutureWarning: max_iter and tol parameters have been added in SGDClassifier in 0.19. If max_iter is set but tol is left unset, the default value for tol in 0.19 and 0.20 will be None (which is equivalent to -infinity, so it has no effect) but will change in 0.21 to 1e-3. Specify tol to silence this warning.\n",
            "  FutureWarning)\n",
            "/usr/local/lib/python3.6/dist-packages/sklearn/utils/validation.py:761: DataConversionWarning: A column-vector y was passed when a 1d array was expected. Please change the shape of y to (n_samples, ), for example using ravel().\n",
            "  y = column_or_1d(y, warn=True)\n"
          ],
          "name": "stderr"
        },
        {
          "output_type": "execute_result",
          "data": {
            "text/plain": [
              "Pipeline(memory=None,\n",
              "     steps=[('vect', CountVectorizer(analyzer='word', binary=False, decode_error='strict',\n",
              "        dtype=<class 'numpy.int64'>, encoding='utf-8', input='content',\n",
              "        lowercase=True, max_df=1.0, max_features=None, min_df=1,\n",
              "        ngram_range=(1, 1), preprocessor=None, stop_words=None,\n",
              "        strip...dom_state=42, shuffle=True, tol=None,\n",
              "       validation_fraction=0.1, verbose=0, warm_start=False))])"
            ]
          },
          "metadata": {
            "tags": []
          },
          "execution_count": 107
        }
      ]
    },
    {
      "metadata": {
        "id": "HxWhYklny11U",
        "colab_type": "code",
        "colab": {}
      },
      "cell_type": "code",
      "source": [
        "predicted = text_clf.predict(X_test)"
      ],
      "execution_count": 0,
      "outputs": []
    },
    {
      "metadata": {
        "id": "6eTyVOvA8J5X",
        "colab_type": "code",
        "colab": {
          "base_uri": "https://localhost:8080/",
          "height": 202
        },
        "outputId": "8f5fe447-db4a-4452-8066-0daeb9a1500b"
      },
      "cell_type": "code",
      "source": [
        "from sklearn import metrics\n",
        "print(metrics.classification_report(y_test, predicted))#X_test, y_test"
      ],
      "execution_count": 109,
      "outputs": [
        {
          "output_type": "stream",
          "text": [
            "              precision    recall  f1-score   support\n",
            "\n",
            "           0       0.96      0.64      0.77     97829\n",
            "           1       0.79      0.99      0.88    171623\n",
            "           2       0.97      0.57      0.71     22306\n",
            "           3       0.99      0.76      0.86      2242\n",
            "\n",
            "   micro avg       0.84      0.84      0.84    294000\n",
            "   macro avg       0.93      0.74      0.80    294000\n",
            "weighted avg       0.86      0.84      0.83    294000\n",
            "\n"
          ],
          "name": "stdout"
        }
      ]
    },
    {
      "metadata": {
        "id": "HyJ2v5KqFHY5",
        "colab_type": "code",
        "colab": {
          "base_uri": "https://localhost:8080/",
          "height": 484
        },
        "outputId": "c8a957a0-5557-49e8-d5dc-e3921365816e"
      },
      "cell_type": "code",
      "source": [
        "final_movie_df.head()"
      ],
      "execution_count": 11,
      "outputs": [
        {
          "output_type": "execute_result",
          "data": {
            "text/html": [
              "<div>\n",
              "<style scoped>\n",
              "    .dataframe tbody tr th:only-of-type {\n",
              "        vertical-align: middle;\n",
              "    }\n",
              "\n",
              "    .dataframe tbody tr th {\n",
              "        vertical-align: top;\n",
              "    }\n",
              "\n",
              "    .dataframe thead th {\n",
              "        text-align: right;\n",
              "    }\n",
              "</style>\n",
              "<table border=\"1\" class=\"dataframe\">\n",
              "  <thead>\n",
              "    <tr style=\"text-align: right;\">\n",
              "      <th></th>\n",
              "      <th>MovieName</th>\n",
              "      <th>ID</th>\n",
              "      <th>CreatedAt</th>\n",
              "      <th>TweetText</th>\n",
              "      <th>RetweetCount</th>\n",
              "      <th>FavoriteCount</th>\n",
              "      <th>Emojis</th>\n",
              "      <th>last_emotion</th>\n",
              "      <th>last_emotion_polarity</th>\n",
              "      <th>emoticon</th>\n",
              "      <th>emoticon_polarity_score</th>\n",
              "      <th>num_of_pos_tweets</th>\n",
              "      <th>num_of_neg_tweets</th>\n",
              "      <th>tweet_polarity</th>\n",
              "      <th>negation_count</th>\n",
              "      <th>movie</th>\n",
              "      <th>imdb_rating_labels</th>\n",
              "    </tr>\n",
              "  </thead>\n",
              "  <tbody>\n",
              "    <tr>\n",
              "      <th>0</th>\n",
              "      <td>1114</td>\n",
              "      <td>1115337567031975936</td>\n",
              "      <td>2019-04-08 19:36:12</td>\n",
              "      <td>RT : GOOD MORNING WAHOOS</td>\n",
              "      <td>249</td>\n",
              "      <td>0</td>\n",
              "      <td>[]</td>\n",
              "      <td></td>\n",
              "      <td>0.0000</td>\n",
              "      <td>0</td>\n",
              "      <td>0.0000</td>\n",
              "      <td>0</td>\n",
              "      <td>0</td>\n",
              "      <td>0.4404</td>\n",
              "      <td>0</td>\n",
              "      <td>1114</td>\n",
              "      <td>Good</td>\n",
              "    </tr>\n",
              "    <tr>\n",
              "      <th>1</th>\n",
              "      <td>1114</td>\n",
              "      <td>1114967664034758657</td>\n",
              "      <td>2019-04-07 19:06:20</td>\n",
              "      <td>Ward sits for tripping. Worcester gets the aft...</td>\n",
              "      <td>0</td>\n",
              "      <td>0</td>\n",
              "      <td>[]</td>\n",
              "      <td></td>\n",
              "      <td>0.0000</td>\n",
              "      <td>0</td>\n",
              "      <td>0.0000</td>\n",
              "      <td>0</td>\n",
              "      <td>0</td>\n",
              "      <td>0.3400</td>\n",
              "      <td>0</td>\n",
              "      <td>1114</td>\n",
              "      <td>Good</td>\n",
              "    </tr>\n",
              "    <tr>\n",
              "      <th>2</th>\n",
              "      <td>1114</td>\n",
              "      <td>1115666559178092544</td>\n",
              "      <td>2019-04-09 17:23:30</td>\n",
              "      <td>RT : Guys, the guy who was hired to do a cover...</td>\n",
              "      <td>123</td>\n",
              "      <td>0</td>\n",
              "      <td>[]</td>\n",
              "      <td></td>\n",
              "      <td>0.0000</td>\n",
              "      <td>0</td>\n",
              "      <td>0.0000</td>\n",
              "      <td>0</td>\n",
              "      <td>0</td>\n",
              "      <td>0.0000</td>\n",
              "      <td>0</td>\n",
              "      <td>1114</td>\n",
              "      <td>Good</td>\n",
              "    </tr>\n",
              "    <tr>\n",
              "      <th>3</th>\n",
              "      <td>1114</td>\n",
              "      <td>1116813183375818752</td>\n",
              "      <td>2019-04-12 21:19:46</td>\n",
              "      <td>_1114 Me tooo ahah</td>\n",
              "      <td>0</td>\n",
              "      <td>0</td>\n",
              "      <td>[]</td>\n",
              "      <td></td>\n",
              "      <td>0.0000</td>\n",
              "      <td>0</td>\n",
              "      <td>0.0000</td>\n",
              "      <td>0</td>\n",
              "      <td>0</td>\n",
              "      <td>0.0000</td>\n",
              "      <td>0</td>\n",
              "      <td>1114</td>\n",
              "      <td>Good</td>\n",
              "    </tr>\n",
              "    <tr>\n",
              "      <th>4</th>\n",
              "      <td>1114</td>\n",
              "      <td>1115903386237513728</td>\n",
              "      <td>2019-04-10 09:04:34</td>\n",
              "      <td>you're quite right...💋</td>\n",
              "      <td>0</td>\n",
              "      <td>0</td>\n",
              "      <td>[💋]</td>\n",
              "      <td>💋</td>\n",
              "      <td>0.4215</td>\n",
              "      <td>1</td>\n",
              "      <td>0.4215</td>\n",
              "      <td>1</td>\n",
              "      <td>0</td>\n",
              "      <td>0.0000</td>\n",
              "      <td>0</td>\n",
              "      <td>1114</td>\n",
              "      <td>Good</td>\n",
              "    </tr>\n",
              "  </tbody>\n",
              "</table>\n",
              "</div>"
            ],
            "text/plain": [
              "  MovieName                   ID           CreatedAt  \\\n",
              "0     1114   1115337567031975936 2019-04-08 19:36:12   \n",
              "1     1114   1114967664034758657 2019-04-07 19:06:20   \n",
              "2     1114   1115666559178092544 2019-04-09 17:23:30   \n",
              "3     1114   1116813183375818752 2019-04-12 21:19:46   \n",
              "4     1114   1115903386237513728 2019-04-10 09:04:34   \n",
              "\n",
              "                                           TweetText  RetweetCount  \\\n",
              "0                          RT : GOOD MORNING WAHOOS            249   \n",
              "1  Ward sits for tripping. Worcester gets the aft...             0   \n",
              "2  RT : Guys, the guy who was hired to do a cover...           123   \n",
              "3                                 _1114 Me tooo ahah             0   \n",
              "4                             you're quite right...💋             0   \n",
              "\n",
              "   FavoriteCount Emojis last_emotion  last_emotion_polarity  emoticon  \\\n",
              "0              0     []                              0.0000         0   \n",
              "1              0     []                              0.0000         0   \n",
              "2              0     []                              0.0000         0   \n",
              "3              0     []                              0.0000         0   \n",
              "4              0    [💋]            💋                 0.4215         1   \n",
              "\n",
              "   emoticon_polarity_score  num_of_pos_tweets  num_of_neg_tweets  \\\n",
              "0                   0.0000                  0                  0   \n",
              "1                   0.0000                  0                  0   \n",
              "2                   0.0000                  0                  0   \n",
              "3                   0.0000                  0                  0   \n",
              "4                   0.4215                  1                  0   \n",
              "\n",
              "   tweet_polarity  negation_count  movie imdb_rating_labels  \n",
              "0          0.4404               0  1114                Good  \n",
              "1          0.3400               0  1114                Good  \n",
              "2          0.0000               0  1114                Good  \n",
              "3          0.0000               0  1114                Good  \n",
              "4          0.0000               0  1114                Good  "
            ]
          },
          "metadata": {
            "tags": []
          },
          "execution_count": 11
        }
      ]
    },
    {
      "metadata": {
        "id": "pCMLDCisEmc1",
        "colab_type": "text"
      },
      "cell_type": "markdown",
      "source": [
        "## **SVM after replacing emoticons**"
      ]
    },
    {
      "metadata": {
        "id": "_qX4agV5czVQ",
        "colab_type": "code",
        "colab": {
          "base_uri": "https://localhost:8080/",
          "height": 34
        },
        "outputId": "e0f25240-bc0f-4ee9-a55c-504acbef97a4"
      },
      "cell_type": "code",
      "source": [
        "import pandas as pd\n",
        "import pickle as pkl\n",
        "import numpy as np\n",
        "from google.colab import files\n",
        "from google.colab import drive\n",
        "from collections import Counter\n",
        "from sklearn.model_selection import train_test_split\n",
        "from sklearn.feature_extraction.text import TfidfTransformer\n",
        "from sklearn.feature_extraction.text import CountVectorizer\n",
        "from sklearn.linear_model import SGDClassifier\n",
        "from sklearn.pipeline import Pipeline\n",
        "drive.mount('/content/Drive/',force_remount =  True)"
      ],
      "execution_count": 1,
      "outputs": [
        {
          "output_type": "stream",
          "text": [
            "Mounted at /content/Drive/\n"
          ],
          "name": "stdout"
        }
      ]
    },
    {
      "metadata": {
        "id": "4yQO8E8acjSB",
        "colab_type": "code",
        "colab": {}
      },
      "cell_type": "code",
      "source": [
        "with open('/content/Drive/My Drive/SMM/finalDataset.pkl', 'rb') as pickle_file:\n",
        "    final_movie_df = pkl.load(pickle_file)"
      ],
      "execution_count": 0,
      "outputs": []
    },
    {
      "metadata": {
        "id": "i-2GmtUBZ3ck",
        "colab_type": "code",
        "colab": {}
      },
      "cell_type": "code",
      "source": [
        "factors = pd.factorize(final_movie_df['imdb_rating_labels'])\n",
        "definitions = factors[1]\n",
        "y = pd.DataFrame(factors[0], columns=['imdb_rating_labels'])"
      ],
      "execution_count": 0,
      "outputs": []
    },
    {
      "metadata": {
        "id": "5v3SZwluEyOo",
        "colab_type": "code",
        "colab": {}
      },
      "cell_type": "code",
      "source": [
        "# X_train, X_test, y_train, y_test = train_test_split(final_movie_df[['RetweetCount', 'FavoriteCount', 'num_of_pos_tweets',\n",
        "       'num_of_neg_tweets', 'tweet_polarity', 'negation_count']], y, test_size = 0.25, random_state = 21)"
      ],
      "execution_count": 0,
      "outputs": []
    },
    {
      "metadata": {
        "id": "ahRCd_-yF4ya",
        "colab_type": "code",
        "colab": {}
      },
      "cell_type": "code",
      "source": [
        "# clf = SGDClassifier(loss='hinge', penalty='l2',alpha=0.0001, random_state=42,max_iter=5, tol=None)"
      ],
      "execution_count": 0,
      "outputs": []
    },
    {
      "metadata": {
        "id": "VrW-yeAAGEvg",
        "colab_type": "code",
        "colab": {
          "base_uri": "https://localhost:8080/",
          "height": 205
        },
        "outputId": "e4de765c-cb19-4b65-be3d-36b5062533ff"
      },
      "cell_type": "code",
      "source": [
        "# clf.fit(X_train, y_train)"
      ],
      "execution_count": 79,
      "outputs": [
        {
          "output_type": "stream",
          "text": [
            "/usr/local/lib/python3.6/dist-packages/sklearn/linear_model/stochastic_gradient.py:183: FutureWarning: max_iter and tol parameters have been added in SGDClassifier in 0.19. If max_iter is set but tol is left unset, the default value for tol in 0.19 and 0.20 will be None (which is equivalent to -infinity, so it has no effect) but will change in 0.21 to 1e-3. Specify tol to silence this warning.\n",
            "  FutureWarning)\n",
            "/usr/local/lib/python3.6/dist-packages/sklearn/utils/validation.py:761: DataConversionWarning: A column-vector y was passed when a 1d array was expected. Please change the shape of y to (n_samples, ), for example using ravel().\n",
            "  y = column_or_1d(y, warn=True)\n"
          ],
          "name": "stderr"
        },
        {
          "output_type": "execute_result",
          "data": {
            "text/plain": [
              "SGDClassifier(alpha=0.0001, average=False, class_weight=None,\n",
              "       early_stopping=False, epsilon=0.1, eta0=0.0, fit_intercept=True,\n",
              "       l1_ratio=0.15, learning_rate='optimal', loss='hinge', max_iter=5,\n",
              "       n_iter=None, n_iter_no_change=5, n_jobs=None, penalty='l2',\n",
              "       power_t=0.5, random_state=42, shuffle=True, tol=None,\n",
              "       validation_fraction=0.1, verbose=0, warm_start=False)"
            ]
          },
          "metadata": {
            "tags": []
          },
          "execution_count": 79
        }
      ]
    },
    {
      "metadata": {
        "id": "AHckCXQtGaLd",
        "colab_type": "code",
        "colab": {}
      },
      "cell_type": "code",
      "source": [
        "# predicted = clf.predict(X_test)"
      ],
      "execution_count": 0,
      "outputs": []
    },
    {
      "metadata": {
        "id": "Fdrm4YdrGgyx",
        "colab_type": "code",
        "colab": {
          "base_uri": "https://localhost:8080/",
          "height": 255
        },
        "outputId": "34e22920-92b5-4c51-c736-f1da54571e32"
      },
      "cell_type": "code",
      "source": [
        "# print(metrics.classification_report(y_test, predicted))"
      ],
      "execution_count": 81,
      "outputs": [
        {
          "output_type": "stream",
          "text": [
            "              precision    recall  f1-score   support\n",
            "\n",
            "           0       0.34      0.59      0.43     97829\n",
            "           1       0.59      0.43      0.49    171623\n",
            "           2       0.00      0.00      0.00     22306\n",
            "           3       0.00      0.00      0.00      2242\n",
            "\n",
            "   micro avg       0.44      0.44      0.44    294000\n",
            "   macro avg       0.23      0.25      0.23    294000\n",
            "weighted avg       0.46      0.44      0.43    294000\n",
            "\n"
          ],
          "name": "stdout"
        },
        {
          "output_type": "stream",
          "text": [
            "/usr/local/lib/python3.6/dist-packages/sklearn/metrics/classification.py:1143: UndefinedMetricWarning: Precision and F-score are ill-defined and being set to 0.0 in labels with no predicted samples.\n",
            "  'precision', 'predicted', average, warn_for)\n"
          ],
          "name": "stderr"
        }
      ]
    },
    {
      "metadata": {
        "id": "GtWAfNzNPnJm",
        "colab_type": "code",
        "colab": {}
      },
      "cell_type": "code",
      "source": [
        "import unicodedata as uni\n",
        "import nltk"
      ],
      "execution_count": 0,
      "outputs": []
    },
    {
      "metadata": {
        "id": "zEf2U_sjQXIE",
        "colab_type": "code",
        "colab": {
          "base_uri": "https://localhost:8080/",
          "height": 67
        },
        "outputId": "8c77b1fe-5b25-4884-e52f-0f6a2da7044b"
      },
      "cell_type": "code",
      "source": [
        "nltk.download('stopwords')"
      ],
      "execution_count": 5,
      "outputs": [
        {
          "output_type": "stream",
          "text": [
            "[nltk_data] Downloading package stopwords to /root/nltk_data...\n",
            "[nltk_data]   Package stopwords is already up-to-date!\n"
          ],
          "name": "stdout"
        },
        {
          "output_type": "execute_result",
          "data": {
            "text/plain": [
              "True"
            ]
          },
          "metadata": {
            "tags": []
          },
          "execution_count": 5
        }
      ]
    },
    {
      "metadata": {
        "id": "ATToOi0kPpc-",
        "colab_type": "code",
        "colab": {}
      },
      "cell_type": "code",
      "source": [
        "from nltk.tokenize import TweetTokenizer\n",
        "from nltk.corpus import stopwords\n",
        "import string"
      ],
      "execution_count": 0,
      "outputs": []
    },
    {
      "metadata": {
        "id": "Dgq4ll6gPsYp",
        "colab_type": "code",
        "colab": {}
      },
      "cell_type": "code",
      "source": [
        "def emojiToText(emojiList):\n",
        "  #words = [x for x in TweetTokenizer(strip_handles= True, preserve_case=False, reduce_len=True).tokenize(text) if x not in stopwords.words('english')]\n",
        "  #words = [x for x in words if x not in string.punctuation]\n",
        "  words = []\n",
        "  for idx, word in enumerate(emojiList):\n",
        "      try:\n",
        "          #words[idx] = uni.name(word).lower() #+' '+uni.name(word).lower()\n",
        "          words.append(uni.name(word).lower()) #+' '+uni.name(word).lower()\n",
        "      except:\n",
        "          pass\n",
        "  if words!=[]:\n",
        "    return(' '.join(y for y in words))\n",
        "  return(' ')\n",
        "#print(emojiToText(\"you're quite right...💋\"))"
      ],
      "execution_count": 0,
      "outputs": []
    },
    {
      "metadata": {
        "id": "if-mwC5oJhLV",
        "colab_type": "code",
        "colab": {}
      },
      "cell_type": "code",
      "source": [
        "final_movie_df['Emojis'] = final_movie_df['Emojis'].apply(emojiToText)\n",
        "# df['period'] = df[['Year', 'quarter']].apply(lambda x: ''.join(x), axis=1)\n",
        "final_movie_df['TweetText'] = final_movie_df[['TweetText','Emojis']].apply(lambda x: ''.join(x), axis=1)"
      ],
      "execution_count": 0,
      "outputs": []
    },
    {
      "metadata": {
        "id": "wMQ6ULwwR7F4",
        "colab_type": "code",
        "colab": {
          "base_uri": "https://localhost:8080/",
          "height": 1058
        },
        "outputId": "7046ceba-96d9-468c-b317-d57024643013"
      },
      "cell_type": "code",
      "source": [
        "final_movie_df['TweetText']"
      ],
      "execution_count": 10,
      "outputs": [
        {
          "output_type": "execute_result",
          "data": {
            "text/plain": [
              "0                                 RT : GOOD MORNING WAHOOS  \n",
              "1          Ward sits for tripping. Worcester gets the aft...\n",
              "2          RT : Guys, the guy who was hired to do a cover...\n",
              "3                                        _1114 Me tooo ahah \n",
              "4                            you're quite right...💋kiss mark\n",
              "5                                 _1114 Nice! Wear it well! \n",
              "6          The PA just announced there will be a delayed ...\n",
              "7           Imma jobless kid, though. Of course, I can al...\n",
              "8          Water wet sky blue ECHL ref misses another call  \n",
              "9          _1114 Having a blast! Thankyou for the sweet w...\n",
              "10         Something about an empty rink before the fun b...\n",
              "11                              one and only that matters.  \n",
              "12         RT _: god gives his toughest battles to his st...\n",
              "13         RT : I turn thirty this year and my parents ar...\n",
              "14                               I'm afraid that's correct🧡 \n",
              "15         RT : Breaux cites numerous groups opposed to p...\n",
              "16         RT : PLAY IN GAME: It’s a battle of the bubble...\n",
              "17         _uji82 It's okay, I will just take a step back...\n",
              "18         _sup Saint never forgets to lead fans to do go...\n",
              "19         MAP OF THE WORLD LAMINATED LARGE POSTER 61x91c...\n",
              "20          Oh, om mostly on dm berarti ya. Sure thiing, ...\n",
              "21                       I didn't, hehehe. Maybe next time? \n",
              "22         Home sweet home.\\n\\nNow to get on with my norm...\n",
              "23         When: March 11, 2000 to October 9, 2002\\n\\nWhe...\n",
              "24                              For once, I agree with you🧡 \n",
              "25         RT : #LokSabhaElections2019 |  For the BJP, th...\n",
              "26         defense dayyy!!! &amp; birthday amp goodluck 2...\n",
              "27         _mackenzie I’ve been going to the y almost eve...\n",
              "28         RT @_B1A4OFFICIAL: 2019 B1A4 ♥ BANA\\n[HAPPY SA...\n",
              "29                                                  Pink.   \n",
              "                                 ...                        \n",
              "1244970    _ Bathi they suspect his phone was stolen coz ...\n",
              "1244971                                                Dope \n",
              "1244972    I have to check my notifications on twitter ma...\n",
              "1244973    RT _jade:  Abuse amongst Zulu men is widesprea...\n",
              "1244974                    Once a blue always a blue #zulu  \n",
              "1244975                  _zulu_ I love youre queening style \n",
              "1244976    RT _JusticeSA: Dear Zulu people it's diritos n...\n",
              "1244977                       _illy On the long run it pays \n",
              "1244978    _asa 😂 we'll see about that.face with tears of...\n",
              "1244979    RT @_Mpumz: I really hope my mother stays aliv...\n",
              "1244980     If he’s not funny then drop him, he’s not a r...\n",
              "1244981    RT _JusticeSA: Dear Zulu people it's diritos n...\n",
              "1244982    RT _g: A Zulu girl headed to a Xhosa wedding 💍...\n",
              "1244983     _bassie   It really hurts Yaz.... Sometimes I...\n",
              "1244984    RT @_yungkoala: my students just asked if ive ...\n",
              "1244985    _asa Like middleish end of season 3 if I’m not...\n",
              "1244986    Also if you watched this as a woman and ddnt f...\n",
              "1244987     I did not say it’s Only Zulu Guys! Please rea...\n",
              "1244988    RT : It is better to ask if ungazi then to bas...\n",
              "1244989    there will be Celtic, Zulu, Broadway, Blues, a...\n",
              "1244990    RT _g: A Zulu girl headed to a Xhosa wedding 💍...\n",
              "1244991                    Yazi I must get this song #Zulu  \n",
              "1244992    __ _ Shaka the Zulu, king solomon's mines, All...\n",
              "1244993          RT : Shekhinah to join Ed Sheeran on tour  \n",
              "1244994                                          I’m up lol \n",
              "1244995    IFP president Prince Mangosuthu Buthelezi beli...\n",
              "1244996                       i'm quite 😭 loudly crying face\n",
              "1244997    RT _: I have Zulu male contacts on my WhatsApp...\n",
              "1244998    _nation2  ur avi kills me yet inspires me at t...\n",
              "1244999    RT : Zulu men are where it’s at. Lol don’t @ m...\n",
              "Name: TweetText, Length: 1176000, dtype: object"
            ]
          },
          "metadata": {
            "tags": []
          },
          "execution_count": 10
        }
      ]
    },
    {
      "metadata": {
        "id": "Nrr8Ko4jQJJX",
        "colab_type": "code",
        "colab": {}
      },
      "cell_type": "code",
      "source": [
        "X_train, X_test, y_train, y_test = train_test_split(final_movie_df['TweetText'], y, test_size = 0.25, random_state = 21)"
      ],
      "execution_count": 0,
      "outputs": []
    },
    {
      "metadata": {
        "id": "-4ahANP6_5hB",
        "colab_type": "code",
        "colab": {}
      },
      "cell_type": "code",
      "source": [
        "text_clf = Pipeline([('vect', CountVectorizer()),('tfidf', TfidfTransformer()),('clf', SGDClassifier(loss='hinge', penalty='l2',alpha=0.0001, random_state=42,max_iter=5, tol=None))])"
      ],
      "execution_count": 0,
      "outputs": []
    },
    {
      "metadata": {
        "id": "95bFgZWpAVJI",
        "colab_type": "code",
        "colab": {
          "base_uri": "https://localhost:8080/",
          "height": 289
        },
        "outputId": "5336af9f-978b-4c3f-f27c-5e6bafad843d"
      },
      "cell_type": "code",
      "source": [
        "from sklearn import metrics\n",
        "text_clf.fit(X_train, y_train)\n",
        "predicted = text_clf.predict(X_test)\n",
        "print(metrics.classification_report(y_test, predicted))#X_test, y_test"
      ],
      "execution_count": 13,
      "outputs": [
        {
          "output_type": "stream",
          "text": [
            "/usr/local/lib/python3.6/dist-packages/sklearn/linear_model/stochastic_gradient.py:183: FutureWarning: max_iter and tol parameters have been added in SGDClassifier in 0.19. If max_iter is set but tol is left unset, the default value for tol in 0.19 and 0.20 will be None (which is equivalent to -infinity, so it has no effect) but will change in 0.21 to 1e-3. Specify tol to silence this warning.\n",
            "  FutureWarning)\n",
            "/usr/local/lib/python3.6/dist-packages/sklearn/utils/validation.py:761: DataConversionWarning: A column-vector y was passed when a 1d array was expected. Please change the shape of y to (n_samples, ), for example using ravel().\n",
            "  y = column_or_1d(y, warn=True)\n"
          ],
          "name": "stderr"
        },
        {
          "output_type": "stream",
          "text": [
            "              precision    recall  f1-score   support\n",
            "\n",
            "           0       0.96      0.63      0.76     97829\n",
            "           1       0.78      0.99      0.87    171623\n",
            "           2       0.97      0.55      0.70     22306\n",
            "           3       0.99      0.75      0.85      2242\n",
            "\n",
            "   micro avg       0.83      0.83      0.83    294000\n",
            "   macro avg       0.92      0.73      0.80    294000\n",
            "weighted avg       0.86      0.83      0.82    294000\n",
            "\n"
          ],
          "name": "stdout"
        }
      ]
    },
    {
      "metadata": {
        "id": "TCTcaXCvAxIC",
        "colab_type": "code",
        "colab": {}
      },
      "cell_type": "code",
      "source": [
        ""
      ],
      "execution_count": 0,
      "outputs": []
    }
  ]
}